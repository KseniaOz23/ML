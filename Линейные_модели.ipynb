{
  "nbformat": 4,
  "nbformat_minor": 0,
  "metadata": {
    "colab": {
      "provenance": []
    },
    "kernelspec": {
      "name": "python3",
      "display_name": "Python 3"
    },
    "language_info": {
      "name": "python"
    }
  },
  "cells": [
    {
      "cell_type": "markdown",
      "source": [
        "Линейная регрессия"
      ],
      "metadata": {
        "id": "HQA1hwjCtqER"
      }
    },
    {
      "cell_type": "markdown",
      "source": [
        "Основной алгоритм"
      ],
      "metadata": {
        "id": "XG3kN_iXt3Ef"
      }
    },
    {
      "cell_type": "code",
      "source": [
        "import pandas as pd\n",
        "from matplotlib import pyplot as plt\n",
        "from sklearn.model_selection import train_test_split\n",
        "\n",
        "from sklearn.preprocessing import OneHotEncoder\n",
        "from sklearn.preprocessing import StandardScaler\n",
        "\n",
        "RANDOM_STATE = 42\n",
        "\n",
        "df = pd.read_csv('real_estate_clean_cat.csv')\n",
        "X = df.drop('price', axis=1)\n",
        "y = df['price']\n",
        "\n",
        "X_train, X_test, y_train, y_test = train_test_split(\n",
        "    X,\n",
        "    y,\n",
        "    random_state=RANDOM_STATE)\n",
        "\n",
        "cat_col_names = ['building_type', 'parking_place', 'rooms_number']\n",
        "num_col_names = ['total_area',\n",
        "                 'living_area',\n",
        "                 'ceil_height',\n",
        "                 'city_center_distance',\n",
        "                 'years_after_repair']\n",
        "\n",
        "## подготовка признаков для масштабирования и кодирования\n",
        "\n",
        "scaler = StandardScaler()\n",
        "\n",
        "X_train_scaled = scaler.fit_transform(X_train[num_col_names])\n",
        "\n",
        "X_test_scaled = scaler.transform(X_test[num_col_names])\n",
        "\n",
        "encoder = OneHotEncoder(drop='first', sparse=False)\n",
        "\n",
        "X_train_ohe = encoder.fit_transform(X_train[cat_col_names])\n",
        "\n",
        "X_test_ohe = encoder.transform(X_test[cat_col_names])\n",
        "\n",
        "encoder_col_names = encoder.get_feature_names()\n",
        "\n",
        "X_train_ohe = pd.DataFrame(X_train_ohe, columns=encoder_col_names)\n",
        "X_test_ohe = pd.DataFrame(X_test_ohe, columns=encoder_col_names)\n",
        "\n",
        "X_train_scaled = pd.DataFrame(X_train_scaled, columns=num_col_names)\n",
        "X_test_scaled = pd.DataFrame(X_test_scaled, columns=num_col_names)\n",
        "\n",
        "\n",
        "X_train = pd.concat([X_train_ohe, X_train_scaled], axis=1)\n",
        "X_test = pd.concat([X_test_ohe, X_test_scaled], axis=1)\n",
        "\n",
        "model_lr  = LinearRegression()\n",
        "\n",
        "model_lr.fit(X_train, y_train)\n",
        "\n",
        "predictions = model_lr.predict(X_test)\n",
        "\n",
        "mae = mean_absolute_error(y_test, predictions)"
      ],
      "metadata": {
        "id": "yJAjjdI6tseh"
      },
      "execution_count": null,
      "outputs": []
    },
    {
      "cell_type": "markdown",
      "source": [
        "Графики распределений"
      ],
      "metadata": {
        "id": "pmSeRuogtz1B"
      }
    },
    {
      "cell_type": "code",
      "source": [
        "fig, axes = plt.subplots(nrows=1, ncols=2, figsize=(10,5))\n",
        "\n",
        "X_train[num_col_names].plot(kind='hist', bins=10, ax=axes[0])\n",
        "axes[0].set_title('Гистограмма распределения')\n",
        "X_train[num_col_names].plot(kind='box',   ax=axes[1], rot=45)\n",
        "axes[1].set_title('Разброс значений признаков')\n",
        "plt.show()"
      ],
      "metadata": {
        "id": "1wKmoQgztwm_"
      },
      "execution_count": null,
      "outputs": []
    },
    {
      "cell_type": "markdown",
      "source": [
        "Анализ остатков"
      ],
      "metadata": {
        "id": "8J6oU92rt6gL"
      }
    },
    {
      "cell_type": "code",
      "source": [
        "residuals = y_test - predictions\n",
        "\n",
        "fig, axes = plt.subplots(nrows=1, ncols=2, figsize=(10,5))\n",
        "axes[0].hist(residuals, bins=30)\n",
        "axes[0].set_title('Гистограмма распределения остатков')\n",
        "axes[0].set_xlabel('Остатки')\n",
        "\n",
        "axes[1].scatter(predictions, residuals, alpha=0.5)\n",
        "axes[1].set_xlabel('Предсказания модели')\n",
        "axes[1].set_ylabel('Остатки')\n",
        "axes[1].set_title('Анализ дисперсии')\n",
        "plt.show()"
      ],
      "metadata": {
        "id": "GmepkRgvt-FY"
      },
      "execution_count": null,
      "outputs": []
    }
  ]
}