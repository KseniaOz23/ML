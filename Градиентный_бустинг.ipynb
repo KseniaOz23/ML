{
  "nbformat": 4,
  "nbformat_minor": 0,
  "metadata": {
    "colab": {
      "provenance": []
    },
    "kernelspec": {
      "name": "python3",
      "display_name": "Python 3"
    },
    "language_info": {
      "name": "python"
    }
  },
  "cells": [
    {
      "cell_type": "markdown",
      "source": [
        "Градиентный бустинг"
      ],
      "metadata": {
        "id": "wXFnXs8MsNr-"
      }
    },
    {
      "cell_type": "code",
      "execution_count": null,
      "metadata": {
        "id": "ZQ59HsWRryYB"
      },
      "outputs": [],
      "source": [
        "import pandas as pd\n",
        "from sklearn.model_selection import train_test_split\n",
        "from catboost import CatBoostClassifier\n",
        "from sklearn.metrics import roc_auc_score\n",
        "\n",
        "\n",
        "data = pd.read_csv('/datasets/travel_insurance.csv')\n",
        "\n",
        "features_train, features_valid, target_train, target_valid = train_test_split(\n",
        "    data.drop('Claim', axis=1), data.Claim, test_size=0.25, random_state=12345)\n",
        "\n",
        "cat_features = ['Agency', 'Agency Type', 'Distribution Channel',\n",
        "                'Product Name', 'Destination', 'Gender']\n",
        "\n",
        "model = CatBoostClassifier(loss_function='Logloss', iterations=50)\n",
        "\n",
        "model.fit(features_train, target_train, cat_features=cat_features, verbose=10)\n",
        "\n",
        "probabilities_valid = model.predict_proba(features_valid)\n",
        "probabilities_one_valid = probabilities_valid[:, 1]\n",
        "print(roc_auc_score(target_valid, probabilities_one_valid))"
      ]
    },
    {
      "cell_type": "markdown",
      "source": [
        "Градиентный спуск"
      ],
      "metadata": {
        "id": "-CY2KluHsSI7"
      }
    },
    {
      "cell_type": "code",
      "source": [
        "import pandas as pd\n",
        "from sklearn.linear_model import Ridge, Lasso, SGDRegressor\n",
        "from sklearn.metrics import mean_squared_error\n",
        "from sklearn.model_selection import train_test_split\n",
        "\n",
        "# Отключим уведомления\n",
        "import warnings\n",
        "warnings.filterwarnings('ignore')\n",
        "\n",
        "# Загрузим данные\n",
        "data = pd.read_csv('tennis.csv')\n",
        "\n",
        "# Отделим целевой признак, подготовим выборки\n",
        "X = data.drop('Выигрыш на подаче', axis=1)\n",
        "y = data['Выигрыш на подаче']\n",
        "X_train, X_test, y_train, y_test = train_test_split(X, y, test_size=0.2, random_state=42)\n",
        "\n",
        "# Подберём силу регуляризации для Ridge\n",
        "for i in [0, 0.1, 1, 5]:\n",
        "    model = Ridge(alpha=i, solver='lsqr')\n",
        "    model.fit(X_train, y_train)\n",
        "    print(f'Коэффициент регуляризации {i}')\n",
        "    print(mean_squared_error(y_test, model.predict(X_test)))\n",
        "\n",
        "# Узнаем, сколько шагов требуется для нахождения решения\n",
        "for i in range(1, 8):\n",
        "    model = Ridge(alpha=0, solver='lsqr', max_iter=i)\n",
        "    model.fit(X_train, y_train)\n",
        "    print(f'Максимальное число шагов {i}')\n",
        "    print(mean_squared_error(y_test, model.predict(X_test)))\n",
        "\n",
        "# Подберём значения параметров для Lasso\n",
        "for i in [0, 0.1, 1, 5]:\n",
        "    model = Lasso(alpha=i)\n",
        "    model.fit(X_train, y_train)\n",
        "    print(f'Коэффициент регуляризации {i}')\n",
        "    print(mean_squared_error(y_test, model.predict(X_test)))\n",
        "\n",
        "# Подберём значения параметров для SGDRegressor\n",
        "for i in ['l1', 'l2']:\n",
        "    for j in [0, 0.1, 1, 5]:\n",
        "        model = SGDRegressor(penalty=i, alpha=j, max_iter=100, tol=0.0001, n_iter_no_change=10, early_stopping=False)\n",
        "        model.fit(X_train, y_train)\n",
        "        print(f'Тип регуляризации {i}, сила регуляризации {j}')\n",
        "        print(mean_squared_error(y_test, model.predict(X_test)))\n",
        "\n",
        "# Изменим значение early_stopping\n",
        "for i in ['l1', 'l2']:\n",
        "    for j in [0, 0.1, 1, 5]:\n",
        "        model = SGDRegressor(penalty=i, alpha=j, max_iter=100, tol=0.0001, n_iter_no_change=10, early_stopping=True)\n",
        "        model.fit(X_train, y_train)\n",
        "        print(f'Тип регуляризации {i}, сила регуляризации {j}')\n",
        "        print(mean_squared_error(y_test, model.predict(X_test)))"
      ],
      "metadata": {
        "id": "QTnI7CEesc_u"
      },
      "execution_count": null,
      "outputs": []
    }
  ]
}